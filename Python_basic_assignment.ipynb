{
  "nbformat": 4,
  "nbformat_minor": 0,
  "metadata": {
    "colab": {
      "provenance": []
    },
    "kernelspec": {
      "name": "python3",
      "display_name": "Python 3"
    },
    "language_info": {
      "name": "python"
    }
  },
  "cells": [
    {
      "cell_type": "markdown",
      "source": [
        "### 1. Declare two variables,'x' and 'y',and assign them integar values.Swap the values of these variables without using any temporary variable."
      ],
      "metadata": {
        "id": "Q7-hCyg1WDRV"
      }
    },
    {
      "cell_type": "code",
      "source": [
        "# step 1: Declare and initialize variables\n",
        "x = 3\n",
        "y = 10"
      ],
      "metadata": {
        "id": "bdPFa110X4SM"
      },
      "execution_count": null,
      "outputs": []
    },
    {
      "cell_type": "code",
      "source": [
        "# step 2: Now swap the values of these variables\n",
        "\n",
        "print(f\"Before swap x:{x} and y:{y}\")\n",
        "x,y = y,x\n",
        "\n"
      ],
      "metadata": {
        "colab": {
          "base_uri": "https://localhost:8080/"
        },
        "id": "MsZA9gd1ZW2G",
        "outputId": "980aa212-cdb6-4c9f-c1bf-e57cd3c887f1"
      },
      "execution_count": null,
      "outputs": [
        {
          "output_type": "stream",
          "name": "stdout",
          "text": [
            "Before swap x:10 and y:3\n"
          ]
        }
      ]
    },
    {
      "cell_type": "code",
      "source": [
        "print(f\"After swap x:{x} and y:{y}\")"
      ],
      "metadata": {
        "colab": {
          "base_uri": "https://localhost:8080/"
        },
        "id": "AkCp5dqHa1bc",
        "outputId": "a0c8dc8b-f78b-49e3-a087-d6ab67a20049"
      },
      "execution_count": null,
      "outputs": [
        {
          "output_type": "stream",
          "name": "stdout",
          "text": [
            "After swap x:3 and y:10\n"
          ]
        }
      ]
    },
    {
      "cell_type": "markdown",
      "source": [
        "### Create a program that calculates the area of a rectangle.Take the length and width as input from the user and store them in variables.Calculate and display the area."
      ],
      "metadata": {
        "id": "y76chIL9dac7"
      }
    },
    {
      "cell_type": "code",
      "source": [
        "# Step 1: take the length and width as input from the user\n",
        "length = float(input(\"Enter the length of the rectangle: \"))\n",
        "width = float(input(\"Enter the width of the rectangle: \"))\n",
        "\n",
        "# Step 2: Calculate the area of the rectangle\n",
        "area = length * width\n",
        "\n",
        "# Step 3: Display the calculated area to the user\n",
        "print(\"The area of the rectangle is:\", area) # Printing the calculated area"
      ],
      "metadata": {
        "colab": {
          "base_uri": "https://localhost:8080/"
        },
        "id": "g4vPde3eA8bb",
        "outputId": "fc4cede3-ebda-4adc-f9d3-b9616e476649"
      },
      "execution_count": null,
      "outputs": [
        {
          "output_type": "stream",
          "name": "stdout",
          "text": [
            "Enter the length of the rectangle: 10\n",
            "Enter the width of the rectangle: 20\n",
            "The area of the rectangle is: 200.0\n"
          ]
        }
      ]
    },
    {
      "cell_type": "markdown",
      "source": [
        "##3.Write a Python program that converts temperatures from Celsius to Fahrenhiet. Take the temperature in Celsius as input, store it in a variable,convert it to Fahrenhiet and display the result."
      ],
      "metadata": {
        "id": "4OCf-ThttQMj"
      }
    },
    {
      "cell_type": "code",
      "source": [
        "#Take the temperature in Celsius as input from the user\n",
        "\n",
        "celsius_temperature = float(input(\" Enter  temperature in celsius:\"))\n",
        "\n",
        "#Converts Celsius  to Fahrenhiet by using formula\n",
        "\n",
        "fahrenheit_temperature = (celsius_temperature * 9/5) + 32\n",
        "\n",
        "#Display the result\n",
        "print(f\"{celsius_temperature} Celsius is equal to {fahrenheit_temperature:.2f} Fahrenheit\")\n",
        "\n",
        "\n"
      ],
      "metadata": {
        "colab": {
          "base_uri": "https://localhost:8080/"
        },
        "id": "EQ3noO23vLV_",
        "outputId": "bb5ce223-c861-452e-a721-0090a49bd0f2"
      },
      "execution_count": null,
      "outputs": [
        {
          "output_type": "stream",
          "name": "stdout",
          "text": [
            " Enter  temperature in celsius:30\n",
            "30.0 Celsius is equal to 86.00 Fahrenheit\n"
          ]
        }
      ]
    },
    {
      "cell_type": "markdown",
      "source": [
        "# **String based questions**\n",
        "## 1.Write a Python program that takes a string as input and prints the length of the string."
      ],
      "metadata": {
        "id": "9v0EFCZR7r8V"
      }
    },
    {
      "cell_type": "code",
      "source": [
        "#takes a string as input from user\n",
        "\n",
        "s1 = input(\"string\")\n",
        "\n",
        "print(len(s1))\n"
      ],
      "metadata": {
        "colab": {
          "base_uri": "https://localhost:8080/"
        },
        "id": "dr-x_Day80DX",
        "outputId": "b884b6b9-325d-4e6e-b152-0a9983c8ec46"
      },
      "execution_count": null,
      "outputs": [
        {
          "output_type": "stream",
          "name": "stdout",
          "text": [
            "stringmuskan\n",
            "6\n"
          ]
        }
      ]
    },
    {
      "cell_type": "markdown",
      "source": [
        "## 2. Create a program that takes a sentence from the user and counts the number of vowels in the string.\n"
      ],
      "metadata": {
        "id": "h-SqpCmB-Udm"
      }
    },
    {
      "cell_type": "code",
      "source": [
        "# Step 1: Get input from the user\n",
        "sentence = input(\"Enter a sentence: \")\n",
        "\n",
        "# Step 2: Initialize a variable to count the vowels\n",
        "vowel_count = 0\n",
        "\n",
        "# Step 3: Iterate through each character in the sentence\n",
        "for char in sentence:\n",
        "    # Step 4: Convert the character to lowercase to handle both uppercase and lowercase vowels\n",
        "    char_lower = char.lower()\n",
        "\n",
        "    # Step 5: Check if the character is a vowel (a, e, i, o, u)\n",
        "    if char_lower in \"aeiou\":\n",
        "        # Step 6: If the character is a vowel, increment the vowel_count variable\n",
        "        vowel_count += 1\n",
        "\n",
        "# Step 7: Display the result\n",
        "print(\"Number of vowels:\", vowel_count)"
      ],
      "metadata": {
        "colab": {
          "base_uri": "https://localhost:8080/"
        },
        "id": "X-1y_antC4nh",
        "outputId": "8822ef51-c8dc-4165-92f6-87bd2f90f415"
      },
      "execution_count": null,
      "outputs": [
        {
          "output_type": "stream",
          "name": "stdout",
          "text": [
            "Enter a sentence: my name is muskan\n",
            "Number of vowels: 5\n"
          ]
        }
      ]
    },
    {
      "cell_type": "markdown",
      "source": [
        "##3. Given a string, reverse the order of characters using string slicing and print the reversed string.\n"
      ],
      "metadata": {
        "id": "1NW3c0pvM2R6"
      }
    },
    {
      "cell_type": "code",
      "source": [
        "#Take a string.\n",
        "\n",
        "s2 = 'pwskills'"
      ],
      "metadata": {
        "id": "WvVj3Uj1NPoo"
      },
      "execution_count": null,
      "outputs": []
    },
    {
      "cell_type": "code",
      "source": [
        "#Now reverse the order of characters using string slicing.\n",
        "\n",
        "print(s2[7:-9:-1])"
      ],
      "metadata": {
        "id": "xTuul8BgNi93",
        "outputId": "e1034cd5-5309-4950-ca83-cf8c27a9b9ec",
        "colab": {
          "base_uri": "https://localhost:8080/"
        }
      },
      "execution_count": null,
      "outputs": [
        {
          "output_type": "stream",
          "name": "stdout",
          "text": [
            "sllikswp\n"
          ]
        }
      ]
    },
    {
      "cell_type": "markdown",
      "source": [
        "##4. Write a program that takes a string as input and checks if it is a palindrome\n",
        "(reads the same forwards and backwards)."
      ],
      "metadata": {
        "id": "JHnwJfo5O9YA"
      }
    },
    {
      "cell_type": "code",
      "source": [
        "#Take a string as input from user\n",
        "\n",
        "input_string = input(\"enter a string:\")\n",
        "\n",
        "#Remove spaces and covert a string  to lowercase\n",
        "\n",
        "cleaned_string = input_string.replace(\"\",\"\").lower()\n",
        "\n",
        "reversed_string = cleaned_string[::-1]\n",
        "\n",
        "#compare and cleaned a string with its reverse to check for palindrome.\n",
        "\n",
        "if cleaned_string == reversed_string:\n",
        "\n",
        "  print(\"the input string is palindrome.\")\n",
        "\n",
        "\n",
        "\n",
        "print(\"the input string is not a palindrome.\")\n",
        "\n",
        "\n"
      ],
      "metadata": {
        "id": "lxNaYCPwPQdL",
        "outputId": "325cd079-7d3b-41d2-d7b7-988cd91d642e",
        "colab": {
          "base_uri": "https://localhost:8080/"
        }
      },
      "execution_count": null,
      "outputs": [
        {
          "output_type": "stream",
          "name": "stdout",
          "text": [
            "enter a string:hello\n",
            "the input string is not a palindrome.\n"
          ]
        }
      ]
    },
    {
      "cell_type": "markdown",
      "source": [
        "##5. Create a program that takes a string as input and removes all the spaces from it .Print the modified string without spaces.\n"
      ],
      "metadata": {
        "id": "lVnFcoMcURU1"
      }
    },
    {
      "cell_type": "code",
      "source": [
        "# Step 1: Take input from the user\n",
        "input_string = input(\"Enter a string: \")\n",
        "\n",
        "# Step 2: Initialize an empty string to store the modified string without spaces\n",
        "modified_string = \"\"\n",
        "\n",
        "# Step 3: Iterate through each character in the input string\n",
        "for char in input_string:\n",
        "    # Step 4: Check if the character is not a space\n",
        "    if char != \" \":\n",
        "        # Step 5: If not a space, append the character to the modified string\n",
        "        modified_string += char\n",
        "\n",
        "# Step 6: Print the modified string without spaces\n",
        "print(\"Modified string without spaces:\", modified_string)"
      ],
      "metadata": {
        "colab": {
          "base_uri": "https://localhost:8080/"
        },
        "id": "tNI4L5SzFDdx",
        "outputId": "7529bc3f-33ae-4fc0-d1e4-6936277cff94"
      },
      "execution_count": null,
      "outputs": [
        {
          "output_type": "stream",
          "name": "stdout",
          "text": [
            "Enter a string: muskan\n",
            "Modified string without spaces: muskan\n"
          ]
        }
      ]
    }
  ]
}